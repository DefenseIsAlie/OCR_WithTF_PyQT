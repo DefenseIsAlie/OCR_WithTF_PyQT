{
 "cells": [
  {
   "cell_type": "code",
   "execution_count": 3,
   "metadata": {},
   "outputs": [
    {
     "name": "stdout",
     "output_type": "stream",
     "text": [
      "143590\n"
     ]
    }
   ],
   "source": [
    "import numpy as cp\n",
    "\n",
    "y = cp.load(\"/home/abhishekj/Github/OCR_WithTF_PyQT/XY/Y.npy\")\n",
    "\n",
    "print(y.shape[0])"
   ]
  }
 ],
 "metadata": {
  "kernelspec": {
   "display_name": "Python 3.10.4 ('.venv': venv)",
   "language": "python",
   "name": "python3"
  },
  "language_info": {
   "codemirror_mode": {
    "name": "ipython",
    "version": 3
   },
   "file_extension": ".py",
   "mimetype": "text/x-python",
   "name": "python",
   "nbconvert_exporter": "python",
   "pygments_lexer": "ipython3",
   "version": "3.10.4"
  },
  "orig_nbformat": 4,
  "vscode": {
   "interpreter": {
    "hash": "308231fe396c32db2bb53138a553d98dc2b9414dfffa917713b10c2e13903bd2"
   }
  }
 },
 "nbformat": 4,
 "nbformat_minor": 2
}
